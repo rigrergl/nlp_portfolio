{
 "cells": [
  {
   "cell_type": "code",
   "execution_count": 1,
   "id": "1dac1dc2",
   "metadata": {},
   "outputs": [],
   "source": [
    "# Installation\n",
    "# !pip install pandas\n",
    "# !pip install matplotlib\n",
    "# !pip install tensorflow \n",
    "# !pip install nltk\n",
    "# !pip install scikit-learn"
   ]
  },
  {
   "cell_type": "code",
   "execution_count": 38,
   "id": "c2deae2c",
   "metadata": {},
   "outputs": [],
   "source": [
    "# imports\n",
    "\n",
    "import pandas as pd\n",
    "import numpy as np\n",
    "import tensorflow as tf\n",
    "from tensorflow.keras import layers, models\n",
    "from tensorflow.keras.layers import Embedding, LSTM, Dense, Dropout, SimpleRNN, Conv1D, GlobalMaxPooling1D\n",
    "from tensorflow.keras.preprocessing.text import Tokenizer\n",
    "from sklearn.model_selection import train_test_split\n",
    "from sklearn.metrics import classification_report\n",
    "\n",
    "import nltk\n",
    "from nltk.stem import PorterStemmer\n",
    "\n",
    "import matplotlib.pyplot as plt\n",
    "import string"
   ]
  },
  {
   "cell_type": "code",
   "execution_count": 3,
   "id": "01d50680",
   "metadata": {},
   "outputs": [
    {
     "name": "stdout",
     "output_type": "stream",
     "text": [
      "2.12.0\n"
     ]
    }
   ],
   "source": [
    "# Check tensorflow version\n",
    "print(tf.__version__)"
   ]
  },
  {
   "cell_type": "markdown",
   "id": "070d01bc",
   "metadata": {},
   "source": [
    "# Loading the Data"
   ]
  },
  {
   "cell_type": "code",
   "execution_count": 4,
   "id": "52acb245",
   "metadata": {},
   "outputs": [
    {
     "data": {
      "text/html": [
       "<div>\n",
       "<style scoped>\n",
       "    .dataframe tbody tr th:only-of-type {\n",
       "        vertical-align: middle;\n",
       "    }\n",
       "\n",
       "    .dataframe tbody tr th {\n",
       "        vertical-align: top;\n",
       "    }\n",
       "\n",
       "    .dataframe thead th {\n",
       "        text-align: right;\n",
       "    }\n",
       "</style>\n",
       "<table border=\"1\" class=\"dataframe\">\n",
       "  <thead>\n",
       "    <tr style=\"text-align: right;\">\n",
       "      <th></th>\n",
       "      <th>text</th>\n",
       "      <th>label</th>\n",
       "    </tr>\n",
       "  </thead>\n",
       "  <tbody>\n",
       "    <tr>\n",
       "      <th>0</th>\n",
       "      <td>dear american teens question dutch person hear...</td>\n",
       "      <td>0</td>\n",
       "    </tr>\n",
       "    <tr>\n",
       "      <th>1</th>\n",
       "      <td>nothing look forward lifei dont many reasons k...</td>\n",
       "      <td>1</td>\n",
       "    </tr>\n",
       "    <tr>\n",
       "      <th>2</th>\n",
       "      <td>music recommendations im looking expand playli...</td>\n",
       "      <td>0</td>\n",
       "    </tr>\n",
       "    <tr>\n",
       "      <th>3</th>\n",
       "      <td>im done trying feel betterthe reason im still ...</td>\n",
       "      <td>1</td>\n",
       "    </tr>\n",
       "    <tr>\n",
       "      <th>4</th>\n",
       "      <td>worried  year old girl subject domestic physic...</td>\n",
       "      <td>1</td>\n",
       "    </tr>\n",
       "  </tbody>\n",
       "</table>\n",
       "</div>"
      ],
      "text/plain": [
       "                                                text  label\n",
       "0  dear american teens question dutch person hear...      0\n",
       "1  nothing look forward lifei dont many reasons k...      1\n",
       "2  music recommendations im looking expand playli...      0\n",
       "3  im done trying feel betterthe reason im still ...      1\n",
       "4  worried  year old girl subject domestic physic...      1"
      ]
     },
     "execution_count": 4,
     "metadata": {},
     "output_type": "execute_result"
    }
   ],
   "source": [
    "# Dataset: https://www.kaggle.com/datasets/reihanenamdari/mental-health-corpus\n",
    "\n",
    "df = pd.read_csv('./mental_health.csv')\n",
    "df.head()"
   ]
  },
  {
   "cell_type": "markdown",
   "id": "c31fbf07",
   "metadata": {},
   "source": [
    "# Exploratory Data Analysis"
   ]
  },
  {
   "cell_type": "markdown",
   "id": "a2144e91",
   "metadata": {},
   "source": [
    "The Mental Health Corpus is a compilation of texts about anxiety, depression, and other mental health problems, labeled as toxic or non-toxic. I intend to use it to train a classifier that is able to make a prediction about a user's mental health status from their social media posts."
   ]
  },
  {
   "cell_type": "markdown",
   "id": "0e66f979",
   "metadata": {},
   "source": [
    "## Handling Duplicate Values"
   ]
  },
  {
   "cell_type": "code",
   "execution_count": 5,
   "id": "8dc36e55",
   "metadata": {},
   "outputs": [
    {
     "data": {
      "text/plain": [
       "27972"
      ]
     },
     "execution_count": 5,
     "metadata": {},
     "output_type": "execute_result"
    }
   ],
   "source": [
    "df['text'].nunique()"
   ]
  },
  {
   "cell_type": "code",
   "execution_count": 6,
   "id": "c26c4991",
   "metadata": {},
   "outputs": [
    {
     "data": {
      "text/plain": [
       "(27977, 2)"
      ]
     },
     "execution_count": 6,
     "metadata": {},
     "output_type": "execute_result"
    }
   ],
   "source": [
    "df.shape"
   ]
  },
  {
   "cell_type": "code",
   "execution_count": 7,
   "id": "8f78ae63",
   "metadata": {},
   "outputs": [],
   "source": [
    "df['text'].drop_duplicates(inplace = True)"
   ]
  },
  {
   "cell_type": "markdown",
   "id": "5c7ca109",
   "metadata": {},
   "source": [
    "## Class Distributions"
   ]
  },
  {
   "cell_type": "code",
   "execution_count": 8,
   "id": "7ba1c4f5",
   "metadata": {},
   "outputs": [
    {
     "data": {
      "image/png": "[encoded data removed]",
      "text/plain": [
       "<Figure size 640x480 with 1 Axes>"
      ]
     },
     "metadata": {},
     "output_type": "display_data"
    }
   ],
   "source": [
    "class_counts = df['label'].value_counts()\n",
    "class_counts.plot(kind='bar')\n",
    "plt.title('Class Distibution')\n",
    "plt.xlabel('Class')\n",
    "plt.ylabel('Count')\n",
    "plt.show()"
   ]
  },
  {
   "cell_type": "markdown",
   "id": "710ee040",
   "metadata": {},
   "source": [
    "## Data Preprocessing"
   ]
  },
  {
   "cell_type": "code",
   "execution_count": 9,
   "id": "b3391faf",
   "metadata": {},
   "outputs": [
    {
     "name": "stdout",
     "output_type": "stream",
     "text": [
      "False\n"
     ]
    }
   ],
   "source": [
    "# check if any entry in 'text' column has any uppercase character\n",
    "result = any(df['text'].str.contains(r'[A-Z]'))\n",
    "\n",
    "print(result)"
   ]
  },
  {
   "cell_type": "code",
   "execution_count": 10,
   "id": "aa7ed5d3",
   "metadata": {},
   "outputs": [
    {
     "name": "stdout",
     "output_type": "stream",
     "text": [
      "False\n"
     ]
    }
   ],
   "source": [
    "# check if there are any URLs in the 'text' column\n",
    "pattern = r'https?://\\S+|www\\.\\S+'\n",
    "result = any(df['text'].str.contains(pattern))\n",
    "\n",
    "print(result)"
   ]
  },
  {
   "cell_type": "code",
   "execution_count": 11,
   "id": "bfa90c58",
   "metadata": {},
   "outputs": [
    {
     "name": "stdout",
     "output_type": "stream",
     "text": [
      "True\n"
     ]
    }
   ],
   "source": [
    "# check if there is any puntuation\n",
    "\n",
    "# define a set of punctuation characters\n",
    "punctuation = set(string.punctuation)\n",
    "\n",
    "# check if any entry in 'text' column has any punctuation character\n",
    "result = any(set(''.join(df['text'].tolist())).intersection(punctuation))\n",
    "\n",
    "print(result) # True"
   ]
  },
  {
   "cell_type": "code",
   "execution_count": 12,
   "id": "d6a46722",
   "metadata": {},
   "outputs": [],
   "source": [
    "# removing puntutation\n",
    "\n",
    "# create a translation table to remove punctuation\n",
    "translator = str.maketrans('', '', string.punctuation)\n",
    "\n",
    "# remove punctuation from 'text' column\n",
    "df['text'] = df['text'].apply(lambda x: x.translate(translator))"
   ]
  },
  {
   "cell_type": "code",
   "execution_count": 13,
   "id": "aeb85865",
   "metadata": {},
   "outputs": [
    {
     "data": {
      "text/html": [
       "<div>\n",
       "<style scoped>\n",
       "    .dataframe tbody tr th:only-of-type {\n",
       "        vertical-align: middle;\n",
       "    }\n",
       "\n",
       "    .dataframe tbody tr th {\n",
       "        vertical-align: top;\n",
       "    }\n",
       "\n",
       "    .dataframe thead th {\n",
       "        text-align: right;\n",
       "    }\n",
       "</style>\n",
       "<table border=\"1\" class=\"dataframe\">\n",
       "  <thead>\n",
       "    <tr style=\"text-align: right;\">\n",
       "      <th></th>\n",
       "      <th>text</th>\n",
       "      <th>label</th>\n",
       "    </tr>\n",
       "  </thead>\n",
       "  <tbody>\n",
       "    <tr>\n",
       "      <th>0</th>\n",
       "      <td>dear american teen question dutch person heard...</td>\n",
       "      <td>0</td>\n",
       "    </tr>\n",
       "    <tr>\n",
       "      <th>1</th>\n",
       "      <td>noth look forward lifei dont mani reason keep ...</td>\n",
       "      <td>1</td>\n",
       "    </tr>\n",
       "    <tr>\n",
       "      <th>2</th>\n",
       "      <td>music recommend im look expand playlist usual ...</td>\n",
       "      <td>0</td>\n",
       "    </tr>\n",
       "    <tr>\n",
       "      <th>3</th>\n",
       "      <td>im done tri feel betterth reason im still aliv...</td>\n",
       "      <td>1</td>\n",
       "    </tr>\n",
       "    <tr>\n",
       "      <th>4</th>\n",
       "      <td>worri year old girl subject domest physicalmen...</td>\n",
       "      <td>1</td>\n",
       "    </tr>\n",
       "  </tbody>\n",
       "</table>\n",
       "</div>"
      ],
      "text/plain": [
       "                                                text  label\n",
       "0  dear american teen question dutch person heard...      0\n",
       "1  noth look forward lifei dont mani reason keep ...      1\n",
       "2  music recommend im look expand playlist usual ...      0\n",
       "3  im done tri feel betterth reason im still aliv...      1\n",
       "4  worri year old girl subject domest physicalmen...      1"
      ]
     },
     "execution_count": 13,
     "metadata": {},
     "output_type": "execute_result"
    }
   ],
   "source": [
    "# stemming\n",
    "\n",
    "# create a stemmer object\n",
    "stemmer = PorterStemmer()\n",
    "\n",
    "# stem words in 'text' column\n",
    "df['text'] = df['text'].apply(lambda x: ' '.join([stemmer.stem(word) for word in x.split()]))\n",
    "\n",
    "df.head()"
   ]
  },
  {
   "cell_type": "markdown",
   "id": "131c15ce",
   "metadata": {},
   "source": [
    "# Training a few different Classifiers"
   ]
  },
  {
   "cell_type": "markdown",
   "id": "ac844697",
   "metadata": {},
   "source": [
    "## Setting up X and y"
   ]
  },
  {
   "cell_type": "code",
   "execution_count": 14,
   "id": "c05b22b0",
   "metadata": {},
   "outputs": [],
   "source": [
    "# Train test split\n",
    "\n",
    "X = df['text']\n",
    "y = df['label']\n",
    "\n",
    "X_train, X_test, y_train, y_test = train_test_split(X, y, test_size=0.2, random_state=42, stratify = y)"
   ]
  },
  {
   "cell_type": "code",
   "execution_count": 15,
   "id": "d4c14a74",
   "metadata": {},
   "outputs": [
    {
     "data": {
      "text/plain": [
       "10544    hiya leav messag repli wake day took break day...\n",
       "13576    come friend follow right here anyon know irl s...\n",
       "27344    artist struggl life sure look formayb convers ...\n",
       "2001     shoutout unnecessarili strict thing parent som...\n",
       "22864    set date august th realli feel anyth anymor ti...\n",
       "                               ...                        \n",
       "2954                                im good mood final lol\n",
       "17975    go divorc bankruptci look lose homei bought wa...\n",
       "26730    think romanc movi help coupl develop deeper ap...\n",
       "5149     desper femal one interest relationship femal w...\n",
       "10888    dont get happeningim usual dead insid dont usu...\n",
       "Name: text, Length: 22381, dtype: object"
      ]
     },
     "execution_count": 15,
     "metadata": {},
     "output_type": "execute_result"
    }
   ],
   "source": [
    "X_train"
   ]
  },
  {
   "cell_type": "code",
   "execution_count": 19,
   "id": "7d1b183f",
   "metadata": {},
   "outputs": [],
   "source": [
    "# Encode text data\n",
    "\n",
    "# Fit the tokenizer on the training data\n",
    "tokenizer = Tokenizer(num_words=10000, oov_token=\"<OOV>\")\n",
    "tokenizer.fit_on_texts(X_train)\n",
    "\n",
    "# Encode the training and testing data using the tokenizer\n",
    "X_train = tokenizer.texts_to_sequences(X_train)\n",
    "X_test = tokenizer.texts_to_sequences(X_test)\n",
    "\n",
    "# Pad sequences to have the same length\n",
    "maxlen = 100\n",
    "X_train = tf.keras.preprocessing.sequence.pad_sequences(X_train, padding='post', maxlen=maxlen)\n",
    "X_test = tf.keras.preprocessing.sequence.pad_sequences(X_test, padding='post', maxlen=maxlen)"
   ]
  },
  {
   "cell_type": "code",
   "execution_count": null,
   "id": "5168d3f8",
   "metadata": {},
   "outputs": [],
   "source": []
  },
  {
   "cell_type": "markdown",
   "id": "456010f1",
   "metadata": {},
   "source": [
    "## Sequential Classiffier"
   ]
  },
  {
   "cell_type": "code",
   "execution_count": 25,
   "id": "c81fe1e4",
   "metadata": {},
   "outputs": [
    {
     "name": "stdout",
     "output_type": "stream",
     "text": [
      "Epoch 1/10\n",
      "560/560 [==============================] - 24s 40ms/step - loss: 0.3562 - accuracy: 0.8551 - val_loss: 0.5498 - val_accuracy: 0.6904\n",
      "Epoch 2/10\n",
      "560/560 [==============================] - 23s 41ms/step - loss: 0.4370 - accuracy: 0.8019 - val_loss: 0.4791 - val_accuracy: 0.8678\n",
      "Epoch 3/10\n",
      "560/560 [==============================] - 23s 41ms/step - loss: 0.3136 - accuracy: 0.9015 - val_loss: 0.3359 - val_accuracy: 0.8897\n",
      "Epoch 4/10\n",
      "560/560 [==============================] - 24s 43ms/step - loss: 0.3155 - accuracy: 0.8987 - val_loss: 0.3296 - val_accuracy: 0.8935\n",
      "Epoch 5/10\n",
      "560/560 [==============================] - 24s 42ms/step - loss: 0.3130 - accuracy: 0.8965 - val_loss: 0.3210 - val_accuracy: 0.8955\n",
      "Epoch 6/10\n",
      "560/560 [==============================] - 24s 43ms/step - loss: 0.3161 - accuracy: 0.8918 - val_loss: 0.3448 - val_accuracy: 0.8731\n",
      "Epoch 7/10\n",
      "560/560 [==============================] - 24s 42ms/step - loss: 0.3265 - accuracy: 0.8885 - val_loss: 0.3159 - val_accuracy: 0.9017\n",
      "Epoch 8/10\n",
      "560/560 [==============================] - 24s 42ms/step - loss: 0.3090 - accuracy: 0.9002 - val_loss: 0.3249 - val_accuracy: 0.8943\n",
      "Epoch 9/10\n",
      "560/560 [==============================] - 24s 43ms/step - loss: 0.2941 - accuracy: 0.9091 - val_loss: 0.3144 - val_accuracy: 0.9010\n",
      "Epoch 10/10\n",
      "560/560 [==============================] - 24s 43ms/step - loss: 0.2892 - accuracy: 0.9086 - val_loss: 0.3276 - val_accuracy: 0.8957\n"
     ]
    }
   ],
   "source": [
    "# Fit model\n",
    "\n",
    "model = models.Sequential()\n",
    "model.add(Embedding(input_dim=10000, output_dim=32, input_length=100))\n",
    "model.add(LSTM(64, dropout=0.2, recurrent_dropout=0.2))\n",
    "model.add(Dense(1, activation='sigmoid'))\n",
    "\n",
    "# Compile the model\n",
    "model.compile(loss='binary_crossentropy', optimizer='adam', metrics=['accuracy'])\n",
    "\n",
    "# Train the model\n",
    "history = model.fit(X_train, y_train, epochs=10, batch_size=32, validation_split=0.2)"
   ]
  },
  {
   "cell_type": "code",
   "execution_count": 27,
   "id": "af3261f9",
   "metadata": {},
   "outputs": [
    {
     "name": "stdout",
     "output_type": "stream",
     "text": [
      "175/175 [==============================] - 1s 7ms/step - loss: 0.3450 - accuracy: 0.8865\n",
      "175/175 [==============================] - 1s 6ms/step\n",
      "Test loss: 0.3450027108192444\n",
      "Test accuracy: 0.8865261077880859\n",
      "\n",
      "              precision    recall  f1-score   support\n",
      "\n",
      "           0       0.90      0.88      0.89      2828\n",
      "           1       0.88      0.90      0.89      2768\n",
      "\n",
      "    accuracy                           0.89      5596\n",
      "   macro avg       0.89      0.89      0.89      5596\n",
      "weighted avg       0.89      0.89      0.89      5596\n",
      "\n"
     ]
    }
   ],
   "source": [
    "# Evaluate the model\n",
    "\n",
    "loss, accuracy = model.evaluate(X_test, y_test)\n",
    "y_pred = (model.predict(X_test) > 0.5).astype(\"int32\")\n",
    "\n",
    "print('Test loss:', loss)\n",
    "print('Test accuracy:', accuracy)\n",
    "print()\n",
    "print(classification_report(y_test, y_pred))"
   ]
  },
  {
   "cell_type": "markdown",
   "id": "b4e704fc",
   "metadata": {},
   "source": [
    "## RNN Classifier"
   ]
  },
  {
   "cell_type": "code",
   "execution_count": 31,
   "id": "65bae3e2",
   "metadata": {},
   "outputs": [
    {
     "name": "stdout",
     "output_type": "stream",
     "text": [
      "Epoch 1/10\n",
      "280/280 [==============================] - 4s 10ms/step - loss: 0.6031 - accuracy: 0.6700 - val_loss: 0.5931 - val_accuracy: 0.6270\n",
      "Epoch 2/10\n",
      "280/280 [==============================] - 3s 10ms/step - loss: 0.3922 - accuracy: 0.8268 - val_loss: 0.2559 - val_accuracy: 0.9102\n",
      "Epoch 3/10\n",
      "280/280 [==============================] - 3s 10ms/step - loss: 0.1994 - accuracy: 0.9305 - val_loss: 0.2302 - val_accuracy: 0.9118\n",
      "Epoch 4/10\n",
      "280/280 [==============================] - 3s 10ms/step - loss: 0.1342 - accuracy: 0.9556 - val_loss: 0.2399 - val_accuracy: 0.9124\n",
      "Epoch 5/10\n",
      "280/280 [==============================] - 3s 10ms/step - loss: 0.1037 - accuracy: 0.9678 - val_loss: 0.2582 - val_accuracy: 0.9071\n",
      "Epoch 6/10\n",
      "280/280 [==============================] - 3s 10ms/step - loss: 0.0896 - accuracy: 0.9707 - val_loss: 0.2834 - val_accuracy: 0.9086\n",
      "Epoch 7/10\n",
      "280/280 [==============================] - 3s 10ms/step - loss: 0.0701 - accuracy: 0.9786 - val_loss: 0.2886 - val_accuracy: 0.9028\n",
      "Epoch 8/10\n",
      "280/280 [==============================] - 3s 10ms/step - loss: 0.0680 - accuracy: 0.9788 - val_loss: 0.3144 - val_accuracy: 0.9060\n",
      "Epoch 9/10\n",
      "280/280 [==============================] - 3s 10ms/step - loss: 0.0588 - accuracy: 0.9811 - val_loss: 0.3942 - val_accuracy: 0.8707\n",
      "Epoch 10/10\n",
      "280/280 [==============================] - 3s 11ms/step - loss: 0.0417 - accuracy: 0.9882 - val_loss: 0.3393 - val_accuracy: 0.8981\n"
     ]
    }
   ],
   "source": [
    "# Define the model architecture\n",
    "model = models.Sequential([\n",
    "    Embedding(input_dim=10000, output_dim=32, input_length=maxlen),\n",
    "    SimpleRNN(units=16),\n",
    "    Dense(units=1, activation='sigmoid')\n",
    "])\n",
    "\n",
    "# Compile the model\n",
    "model.compile(optimizer='adam', loss='binary_crossentropy', metrics=['accuracy'])\n",
    "\n",
    "# Train the model\n",
    "history = model.fit(X_train, y_train, epochs=10, batch_size=64, validation_split=0.2)"
   ]
  },
  {
   "cell_type": "code",
   "execution_count": 32,
   "id": "5ded42ca",
   "metadata": {},
   "outputs": [
    {
     "name": "stdout",
     "output_type": "stream",
     "text": [
      "175/175 [==============================] - 0s 2ms/step - loss: 0.3447 - accuracy: 0.9014\n",
      "175/175 [==============================] - 0s 2ms/step\n",
      "Test loss: 0.34470099210739136\n",
      "Test accuracy: 0.9013581275939941\n",
      "\n",
      "              precision    recall  f1-score   support\n",
      "\n",
      "           0       0.90      0.90      0.90      2828\n",
      "           1       0.90      0.90      0.90      2768\n",
      "\n",
      "    accuracy                           0.90      5596\n",
      "   macro avg       0.90      0.90      0.90      5596\n",
      "weighted avg       0.90      0.90      0.90      5596\n",
      "\n"
     ]
    }
   ],
   "source": [
    "# Evaluate the model\n",
    "\n",
    "loss, accuracy = model.evaluate(X_test, y_test)\n",
    "y_pred = (model.predict(X_test) > 0.5).astype(\"int32\")\n",
    "\n",
    "print('Test loss:', loss)\n",
    "print('Test accuracy:', accuracy)\n",
    "print()\n",
    "print(classification_report(y_test, y_pred))"
   ]
  },
  {
   "cell_type": "markdown",
   "id": "44277f7a",
   "metadata": {},
   "source": [
    "## CNN Classifier"
   ]
  },
  {
   "cell_type": "code",
   "execution_count": 35,
   "id": "7838a8c6",
   "metadata": {},
   "outputs": [
    {
     "name": "stdout",
     "output_type": "stream",
     "text": [
      "Epoch 1/10\n",
      "630/630 [==============================] - 5s 7ms/step - loss: 0.2823 - accuracy: 0.8814 - val_loss: 0.2035 - val_accuracy: 0.9209\n",
      "Epoch 2/10\n",
      "630/630 [==============================] - 5s 7ms/step - loss: 0.1337 - accuracy: 0.9525 - val_loss: 0.1996 - val_accuracy: 0.9227\n",
      "Epoch 3/10\n",
      "630/630 [==============================] - 5s 7ms/step - loss: 0.0603 - accuracy: 0.9818 - val_loss: 0.2384 - val_accuracy: 0.9227\n",
      "Epoch 4/10\n",
      "630/630 [==============================] - 5s 7ms/step - loss: 0.0245 - accuracy: 0.9930 - val_loss: 0.3092 - val_accuracy: 0.9209\n",
      "Epoch 5/10\n",
      "630/630 [==============================] - 5s 7ms/step - loss: 0.0084 - accuracy: 0.9979 - val_loss: 0.3521 - val_accuracy: 0.9201\n",
      "Epoch 6/10\n",
      "630/630 [==============================] - 5s 7ms/step - loss: 0.0029 - accuracy: 0.9994 - val_loss: 0.3735 - val_accuracy: 0.9196\n",
      "Epoch 7/10\n",
      "630/630 [==============================] - 5s 7ms/step - loss: 0.0013 - accuracy: 0.9996 - val_loss: 0.4262 - val_accuracy: 0.9236\n",
      "Epoch 8/10\n",
      "630/630 [==============================] - 5s 7ms/step - loss: 0.0021 - accuracy: 0.9993 - val_loss: 0.4364 - val_accuracy: 0.9192\n",
      "Epoch 9/10\n",
      "630/630 [==============================] - 5s 7ms/step - loss: 9.9542e-04 - accuracy: 0.9996 - val_loss: 0.4614 - val_accuracy: 0.9205\n",
      "Epoch 10/10\n",
      "630/630 [==============================] - 4s 7ms/step - loss: 0.0071 - accuracy: 0.9976 - val_loss: 0.6102 - val_accuracy: 0.9049\n"
     ]
    }
   ],
   "source": [
    "# Build the CNN model\n",
    "model = models.Sequential([\n",
    "    Embedding(input_dim=10000, output_dim=64, input_length=maxlen),\n",
    "    Conv1D(filters=128, kernel_size=3, activation='relu'),\n",
    "    GlobalMaxPooling1D(),\n",
    "    Dense(units=64, activation='relu'),\n",
    "    Dense(units=1, activation='sigmoid')\n",
    "])\n",
    "\n",
    "# Compile the model\n",
    "model.compile(optimizer='adam', loss='binary_crossentropy', metrics=['accuracy'])\n",
    "\n",
    "# Train the model\n",
    "history = model.fit(X_train, y_train, epochs=10, batch_size=32, validation_split=0.1)"
   ]
  },
  {
   "cell_type": "code",
   "execution_count": 36,
   "id": "f9bbf015",
   "metadata": {},
   "outputs": [
    {
     "name": "stdout",
     "output_type": "stream",
     "text": [
      "175/175 [==============================] - 0s 2ms/step - loss: 0.5498 - accuracy: 0.9049\n",
      "175/175 [==============================] - 0s 2ms/step\n",
      "Test loss: 0.5498153567314148\n",
      "Test accuracy: 0.9049320816993713\n",
      "\n",
      "              precision    recall  f1-score   support\n",
      "\n",
      "           0       0.90      0.92      0.91      2828\n",
      "           1       0.92      0.89      0.90      2768\n",
      "\n",
      "    accuracy                           0.90      5596\n",
      "   macro avg       0.91      0.90      0.90      5596\n",
      "weighted avg       0.91      0.90      0.90      5596\n",
      "\n"
     ]
    }
   ],
   "source": [
    "# Evaluate the model\n",
    "\n",
    "loss, accuracy = model.evaluate(X_test, y_test)\n",
    "y_pred = (model.predict(X_test) > 0.5).astype(\"int32\")\n",
    "\n",
    "print('Test loss:', loss)\n",
    "print('Test accuracy:', accuracy)\n",
    "print()\n",
    "print(classification_report(y_test, y_pred))"
   ]
  },
  {
   "cell_type": "markdown",
   "id": "52bec235",
   "metadata": {},
   "source": [
    "## CNN with a different embedding approach\n",
    "\n",
    "Using the GloVe pre-trained embedding that can be found here: https://www.kaggle.com/datasets/danielwillgeorge/glove6b100dtxt"
   ]
  },
  {
   "cell_type": "code",
   "execution_count": 40,
   "id": "569f7518",
   "metadata": {},
   "outputs": [
    {
     "name": "stdout",
     "output_type": "stream",
     "text": [
      "Epoch 1/10\n",
      "630/630 [==============================] - 4s 6ms/step - loss: 0.3420 - accuracy: 0.8495 - val_loss: 0.3035 - val_accuracy: 0.8749\n",
      "Epoch 2/10\n",
      "630/630 [==============================] - 3s 5ms/step - loss: 0.2298 - accuracy: 0.9088 - val_loss: 0.2621 - val_accuracy: 0.8937\n",
      "Epoch 3/10\n",
      "630/630 [==============================] - 3s 5ms/step - loss: 0.1764 - accuracy: 0.9323 - val_loss: 0.2597 - val_accuracy: 0.8924\n",
      "Epoch 4/10\n",
      "630/630 [==============================] - 4s 6ms/step - loss: 0.1225 - accuracy: 0.9553 - val_loss: 0.3370 - val_accuracy: 0.8799\n",
      "Epoch 5/10\n",
      "630/630 [==============================] - 3s 5ms/step - loss: 0.0849 - accuracy: 0.9694 - val_loss: 0.3622 - val_accuracy: 0.8839\n",
      "Epoch 6/10\n",
      "630/630 [==============================] - 3s 5ms/step - loss: 0.0602 - accuracy: 0.9783 - val_loss: 0.3826 - val_accuracy: 0.8883\n",
      "Epoch 7/10\n",
      "630/630 [==============================] - 3s 6ms/step - loss: 0.0440 - accuracy: 0.9841 - val_loss: 0.4572 - val_accuracy: 0.8834\n",
      "Epoch 8/10\n",
      "630/630 [==============================] - 4s 6ms/step - loss: 0.0381 - accuracy: 0.9854 - val_loss: 0.4643 - val_accuracy: 0.8857\n",
      "Epoch 9/10\n",
      "630/630 [==============================] - 4s 6ms/step - loss: 0.0395 - accuracy: 0.9846 - val_loss: 0.5061 - val_accuracy: 0.8883\n",
      "Epoch 10/10\n",
      "630/630 [==============================] - 4s 6ms/step - loss: 0.0226 - accuracy: 0.9923 - val_loss: 0.5320 - val_accuracy: 0.8915\n"
     ]
    }
   ],
   "source": [
    "# Function to load GloVe embeddings\n",
    "def load_glove_embeddings(file_path, embedding_dim, word_index):\n",
    "    embeddings_index = {}\n",
    "    with open(file_path, 'r', encoding='utf8') as f:\n",
    "        for line in f:\n",
    "            values = line.split()\n",
    "            word = values[0]\n",
    "            coefs = np.asarray(values[1:], dtype='float32')\n",
    "            embeddings_index[word] = coefs\n",
    "\n",
    "    embedding_matrix = np.zeros((len(word_index) + 1, embedding_dim))\n",
    "    for word, i in word_index.items():\n",
    "        embedding_vector = embeddings_index.get(word)\n",
    "        if embedding_vector is not None:\n",
    "            embedding_matrix[i] = embedding_vector\n",
    "\n",
    "    return embedding_matrix\n",
    "\n",
    "# Load GloVe embeddings\n",
    "glove_file_path = './glove.6B.100d.txt'  # Replace with the path to the GloVe file you want to use\n",
    "embedding_dim = 100\n",
    "embedding_matrix = load_glove_embeddings(glove_file_path, embedding_dim, tokenizer.word_index)\n",
    "\n",
    "# Build the CNN model\n",
    "model = models.Sequential([\n",
    "    Embedding(input_dim=len(tokenizer.word_index) + 1, output_dim=embedding_dim, input_length=maxlen, weights=[embedding_matrix], trainable=False),\n",
    "    Conv1D(filters=128, kernel_size=3, activation='relu'),\n",
    "    GlobalMaxPooling1D(),\n",
    "    Dense(units=64, activation='relu'),\n",
    "    Dense(units=1, activation='sigmoid')\n",
    "])\n",
    "\n",
    "# Compile the model\n",
    "model.compile(optimizer='adam', loss='binary_crossentropy', metrics=['accuracy'])\n",
    "\n",
    "# Train the model\n",
    "history = model.fit(X_train, y_train, epochs=10, batch_size=32, validation_split=0.1)"
   ]
  },
  {
   "cell_type": "code",
   "execution_count": 41,
   "id": "4a184424",
   "metadata": {},
   "outputs": [
    {
     "name": "stdout",
     "output_type": "stream",
     "text": [
      "175/175 [==============================] - 0s 2ms/step - loss: 0.5829 - accuracy: 0.8785\n",
      "175/175 [==============================] - 0s 2ms/step\n",
      "Test loss: 0.5829407572746277\n",
      "Test accuracy: 0.8784846067428589\n",
      "\n",
      "              precision    recall  f1-score   support\n",
      "\n",
      "           0       0.91      0.84      0.88      2828\n",
      "           1       0.85      0.91      0.88      2768\n",
      "\n",
      "    accuracy                           0.88      5596\n",
      "   macro avg       0.88      0.88      0.88      5596\n",
      "weighted avg       0.88      0.88      0.88      5596\n",
      "\n"
     ]
    }
   ],
   "source": [
    "# Evaluate the model\n",
    "\n",
    "loss, accuracy = model.evaluate(X_test, y_test)\n",
    "y_pred = (model.predict(X_test) > 0.5).astype(\"int32\")\n",
    "\n",
    "print('Test loss:', loss)\n",
    "print('Test accuracy:', accuracy)\n",
    "print()\n",
    "print(classification_report(y_test, y_pred))"
   ]
  },
  {
   "cell_type": "markdown",
   "id": "9eeda4c9",
   "metadata": {},
   "source": [
    "## CNN with different embedding approach and added Dropout Layers to mitigate overfitting"
   ]
  },
  {
   "cell_type": "code",
   "execution_count": 42,
   "id": "a9eeaf20",
   "metadata": {},
   "outputs": [
    {
     "name": "stdout",
     "output_type": "stream",
     "text": [
      "Epoch 1/10\n",
      "630/630 [==============================] - 5s 7ms/step - loss: 0.4283 - accuracy: 0.8027 - val_loss: 0.3396 - val_accuracy: 0.8700\n",
      "Epoch 2/10\n",
      "630/630 [==============================] - 4s 7ms/step - loss: 0.3122 - accuracy: 0.8717 - val_loss: 0.3141 - val_accuracy: 0.8741\n",
      "Epoch 3/10\n",
      "630/630 [==============================] - 5s 7ms/step - loss: 0.2845 - accuracy: 0.8832 - val_loss: 0.2856 - val_accuracy: 0.8866\n",
      "Epoch 4/10\n",
      "630/630 [==============================] - 5s 7ms/step - loss: 0.2707 - accuracy: 0.8895 - val_loss: 0.2890 - val_accuracy: 0.8883\n",
      "Epoch 5/10\n",
      "630/630 [==============================] - 5s 7ms/step - loss: 0.2525 - accuracy: 0.8962 - val_loss: 0.2872 - val_accuracy: 0.8910\n",
      "Epoch 6/10\n",
      "630/630 [==============================] - 5s 8ms/step - loss: 0.2401 - accuracy: 0.9068 - val_loss: 0.3179 - val_accuracy: 0.8540\n",
      "Epoch 7/10\n",
      "630/630 [==============================] - 5s 7ms/step - loss: 0.2308 - accuracy: 0.9099 - val_loss: 0.2720 - val_accuracy: 0.8848\n",
      "Epoch 8/10\n",
      "630/630 [==============================] - 5s 7ms/step - loss: 0.2185 - accuracy: 0.9130 - val_loss: 0.2652 - val_accuracy: 0.8883\n",
      "Epoch 9/10\n",
      "630/630 [==============================] - 5s 7ms/step - loss: 0.2090 - accuracy: 0.9160 - val_loss: 0.2583 - val_accuracy: 0.8924\n",
      "Epoch 10/10\n",
      "630/630 [==============================] - 5s 7ms/step - loss: 0.1999 - accuracy: 0.9189 - val_loss: 0.2538 - val_accuracy: 0.8955\n"
     ]
    }
   ],
   "source": [
    "# Build the CNN model\n",
    "model = models.Sequential([\n",
    "    Embedding(input_dim=len(tokenizer.word_index) + 1, output_dim=embedding_dim, input_length=maxlen, weights=[embedding_matrix], trainable=False),\n",
    "    Conv1D(filters=128, kernel_size=3, activation='relu'),\n",
    "    Dropout(0.5),  # Dropout layer added after Conv1D layer\n",
    "    GlobalMaxPooling1D(),\n",
    "    Dense(units=64, activation='relu'),\n",
    "    Dropout(0.5),  # Dropout layer added after Dense layer with 64 units\n",
    "    Dense(units=1, activation='sigmoid')\n",
    "])\n",
    "\n",
    "# Compile the model\n",
    "model.compile(optimizer='adam', loss='binary_crossentropy', metrics=['accuracy'])\n",
    "\n",
    "# Train the model\n",
    "history = model.fit(X_train, y_train, epochs=10, batch_size=32, validation_split=0.1)"
   ]
  },
  {
   "cell_type": "code",
   "execution_count": 43,
   "id": "97bfce73",
   "metadata": {},
   "outputs": [
    {
     "name": "stdout",
     "output_type": "stream",
     "text": [
      "175/175 [==============================] - 0s 2ms/step - loss: 0.2534 - accuracy: 0.8983\n",
      "175/175 [==============================] - 0s 2ms/step\n",
      "Test loss: 0.25336122512817383\n",
      "Test accuracy: 0.8983202576637268\n",
      "\n",
      "              precision    recall  f1-score   support\n",
      "\n",
      "           0       0.92      0.88      0.90      2828\n",
      "           1       0.88      0.92      0.90      2768\n",
      "\n",
      "    accuracy                           0.90      5596\n",
      "   macro avg       0.90      0.90      0.90      5596\n",
      "weighted avg       0.90      0.90      0.90      5596\n",
      "\n"
     ]
    }
   ],
   "source": [
    "# Evaluate the model\n",
    "\n",
    "loss, accuracy = model.evaluate(X_test, y_test)\n",
    "y_pred = (model.predict(X_test) > 0.5).astype(\"int32\")\n",
    "\n",
    "print('Test loss:', loss)\n",
    "print('Test accuracy:', accuracy)\n",
    "print()\n",
    "print(classification_report(y_test, y_pred))"
   ]
  },
  {
   "cell_type": "markdown",
   "id": "0dddc228",
   "metadata": {},
   "source": [
    "## CNN with original embedding approach and added Dropout Layers to mitigate overfitting"
   ]
  },
  {
   "cell_type": "code",
   "execution_count": 44,
   "id": "27a786de",
   "metadata": {},
   "outputs": [
    {
     "name": "stdout",
     "output_type": "stream",
     "text": [
      "Epoch 1/10\n",
      "630/630 [==============================] - 6s 8ms/step - loss: 0.3039 - accuracy: 0.8712 - val_loss: 0.2387 - val_accuracy: 0.9169\n",
      "Epoch 2/10\n",
      "630/630 [==============================] - 5s 8ms/step - loss: 0.1666 - accuracy: 0.9390 - val_loss: 0.2312 - val_accuracy: 0.9102\n",
      "Epoch 3/10\n",
      "630/630 [==============================] - 5s 8ms/step - loss: 0.1132 - accuracy: 0.9601 - val_loss: 0.2135 - val_accuracy: 0.9125\n",
      "Epoch 4/10\n",
      "630/630 [==============================] - 5s 8ms/step - loss: 0.0766 - accuracy: 0.9746 - val_loss: 0.2160 - val_accuracy: 0.9125\n",
      "Epoch 5/10\n",
      "630/630 [==============================] - 5s 8ms/step - loss: 0.0510 - accuracy: 0.9834 - val_loss: 0.2248 - val_accuracy: 0.9098\n",
      "Epoch 6/10\n",
      "630/630 [==============================] - 5s 8ms/step - loss: 0.0376 - accuracy: 0.9875 - val_loss: 0.2649 - val_accuracy: 0.9075\n",
      "Epoch 7/10\n",
      "630/630 [==============================] - 5s 8ms/step - loss: 0.0265 - accuracy: 0.9910 - val_loss: 0.3139 - val_accuracy: 0.8995\n",
      "Epoch 8/10\n",
      "630/630 [==============================] - 5s 8ms/step - loss: 0.0213 - accuracy: 0.9925 - val_loss: 0.3022 - val_accuracy: 0.9075\n",
      "Epoch 9/10\n",
      "630/630 [==============================] - 5s 8ms/step - loss: 0.0196 - accuracy: 0.9933 - val_loss: 0.3752 - val_accuracy: 0.8977\n",
      "Epoch 10/10\n",
      "630/630 [==============================] - 5s 8ms/step - loss: 0.0184 - accuracy: 0.9933 - val_loss: 0.3387 - val_accuracy: 0.9075\n"
     ]
    }
   ],
   "source": [
    "# Build the CNN model\n",
    "model = models.Sequential([\n",
    "    Embedding(input_dim=10000, output_dim=64, input_length=maxlen),\n",
    "    Conv1D(filters=128, kernel_size=3, activation='relu'),\n",
    "    Dropout(0.5),  # Dropout layer added after Conv1D layer\n",
    "    GlobalMaxPooling1D(),\n",
    "    Dense(units=64, activation='relu'),\n",
    "    Dropout(0.5),  # Dropout layer added after Dense layer with 64 units\n",
    "    Dense(units=1, activation='sigmoid')\n",
    "])\n",
    "\n",
    "# Compile the model\n",
    "model.compile(optimizer='adam', loss='binary_crossentropy', metrics=['accuracy'])\n",
    "\n",
    "# Train the model\n",
    "history = model.fit(X_train, y_train, epochs=10, batch_size=32, validation_split=0.1)"
   ]
  },
  {
   "cell_type": "code",
   "execution_count": 45,
   "id": "3d7e27ac",
   "metadata": {},
   "outputs": [
    {
     "name": "stdout",
     "output_type": "stream",
     "text": [
      "175/175 [==============================] - 0s 2ms/step - loss: 0.3799 - accuracy: 0.8944\n",
      "175/175 [==============================] - 0s 2ms/step\n",
      "Test loss: 0.3798658847808838\n",
      "Test accuracy: 0.8943888545036316\n",
      "\n",
      "              precision    recall  f1-score   support\n",
      "\n",
      "           0       0.94      0.84      0.89      2828\n",
      "           1       0.86      0.95      0.90      2768\n",
      "\n",
      "    accuracy                           0.89      5596\n",
      "   macro avg       0.90      0.89      0.89      5596\n",
      "weighted avg       0.90      0.89      0.89      5596\n",
      "\n"
     ]
    }
   ],
   "source": [
    "# Evaluate the model\n",
    "\n",
    "loss, accuracy = model.evaluate(X_test, y_test)\n",
    "y_pred = (model.predict(X_test) > 0.5).astype(\"int32\")\n",
    "\n",
    "print('Test loss:', loss)\n",
    "print('Test accuracy:', accuracy)\n",
    "print()\n",
    "print(classification_report(y_test, y_pred))"
   ]
  },
  {
   "cell_type": "code",
   "execution_count": null,
   "id": "3db11a47",
   "metadata": {},
   "outputs": [],
   "source": []
  }
 ],
 "metadata": {
  "kernelspec": {
   "display_name": "Python 3 (ipykernel)",
   "language": "python",
   "name": "python3"
  },
  "language_info": {
   "codemirror_mode": {
    "name": "ipython",
    "version": 3
   },
   "file_extension": ".py",
   "mimetype": "text/x-python",
   "name": "python",
   "nbconvert_exporter": "python",
   "pygments_lexer": "ipython3",
   "version": "3.11.3"
  }
 },
 "nbformat": 4,
 "nbformat_minor": 5
}
